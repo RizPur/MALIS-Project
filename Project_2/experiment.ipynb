{
 "cells": [
  {
   "cell_type": "markdown",
   "metadata": {},
   "source": [
    "It's a new beginning!\n",
    "\n",
    "Link to our online report: https://typst.app/project/wI0RIX8aviQqNUjKVplkFj"
   ]
  },
  {
   "cell_type": "code",
   "execution_count": 4,
   "metadata": {},
   "outputs": [
    {
     "ename": "ModuleNotFoundError",
     "evalue": "No module named 'Perceptron'",
     "output_type": "error",
     "traceback": [
      "\u001b[1;31m---------------------------------------------------------------------------\u001b[0m",
      "\u001b[1;31mModuleNotFoundError\u001b[0m                       Traceback (most recent call last)",
      "Cell \u001b[1;32mIn[4], line 2\u001b[0m\n\u001b[0;32m      1\u001b[0m \u001b[38;5;66;03m# testing\u001b[39;00m\n\u001b[1;32m----> 2\u001b[0m \u001b[38;5;28;01mimport\u001b[39;00m \u001b[38;5;21;01mPerceptron\u001b[39;00m\n\u001b[0;32m      3\u001b[0m \u001b[38;5;28;01mfrom\u001b[39;00m \u001b[38;5;21;01msklearn\u001b[39;00m\u001b[38;5;21;01m.\u001b[39;00m\u001b[38;5;21;01mlinear_model\u001b[39;00m \u001b[38;5;28;01mimport\u001b[39;00m Perceptron \u001b[38;5;28;01mas\u001b[39;00m SKLearnPerceptron\n\u001b[0;32m      4\u001b[0m \u001b[38;5;28;01mimport\u001b[39;00m \u001b[38;5;21;01mnumpy\u001b[39;00m \u001b[38;5;28;01mas\u001b[39;00m \u001b[38;5;21;01mnp\u001b[39;00m\n",
      "\u001b[1;31mModuleNotFoundError\u001b[0m: No module named 'Perceptron'"
     ]
    }
   ],
   "source": [
    "# testing\n",
    "import Perceptron\n",
    "from sklearn.linear_model import Perceptron as SKLearnPerceptron\n",
    "import numpy as np\n",
    "\n",
    "X_train = np.array([[2, 3], [1, 1], [2, 1], [3, 2], [3, 1]])\n",
    "y_train = np.array([1, -1, -1, 1, -1])  # label\n",
    "X_test = np.array([[1, 2], [3, 3], [2, 2]])\n",
    "y_true = np.array([-1, 1, 1])  # testing label\n",
    "\n",
    "# self-design perception\n",
    "model = Perceptron(alpha=0.1)\n",
    "model.train(X_train, y_train, epochs=10)\n",
    "y_pred_custom = model.predict(X_test)\n",
    "\n",
    "# scikit-learn perception\n",
    "sk_model = SKLearnPerceptron(alpha=0.1, max_iter=10, tol=None)\n",
    "sk_model.fit(X_train, y_train)\n",
    "y_pred_sklearn = sk_model.predict(X_test)\n",
    "\n",
    "# 比compare\n",
    "print(\"Custom Perceptron Predictions:\", y_pred_custom)\n",
    "print(\"Scikit-learn Perceptron Predictions:\", y_pred_sklearn)\n",
    "\n",
    "# validate\n",
    "if np.array_equal(y_pred_custom, y_pred_sklearn):\n",
    "    print(\"Custom implementation matches scikit-learn!\")\n",
    "else:\n",
    "    print(\"There are discrepancies. Debug the custom implementation.\")"
   ]
  },
  {
   "cell_type": "code",
   "execution_count": null,
   "metadata": {},
   "outputs": [],
   "source": []
  },
  {
   "cell_type": "code",
   "execution_count": null,
   "metadata": {},
   "outputs": [],
   "source": []
  },
  {
   "cell_type": "code",
   "execution_count": null,
   "metadata": {},
   "outputs": [],
   "source": []
  },
  {
   "cell_type": "code",
   "execution_count": null,
   "metadata": {},
   "outputs": [],
   "source": []
  },
  {
   "cell_type": "code",
   "execution_count": null,
   "metadata": {},
   "outputs": [],
   "source": []
  }
 ],
 "metadata": {
  "kernelspec": {
   "display_name": "Pytorch",
   "language": "python",
   "name": "python3"
  },
  "language_info": {
   "codemirror_mode": {
    "name": "ipython",
    "version": 3
   },
   "file_extension": ".py",
   "mimetype": "text/x-python",
   "name": "python",
   "nbconvert_exporter": "python",
   "pygments_lexer": "ipython3",
   "version": "3.9.20"
  }
 },
 "nbformat": 4,
 "nbformat_minor": 2
}
